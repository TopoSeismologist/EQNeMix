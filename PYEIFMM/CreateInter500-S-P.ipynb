{
 "cells": [
  {
   "cell_type": "markdown",
   "id": "0372273c-9afc-487f-a52a-43ac9efd4a91",
   "metadata": {},
   "source": [
    "# Equispaced Grid"
   ]
  },
  {
   "cell_type": "markdown",
   "id": "c7f9b168-0515-4cbd-9bb4-d64c59dffedd",
   "metadata": {},
   "source": [
    "### Code to create a csv file with an esquispaced grid  500m x 500 in [file]_interpolated_filled_500m.csv"
   ]
  },
  {
   "cell_type": "code",
   "execution_count": 1,
   "id": "13661c6b-7098-4afd-ae82-d1241f171c97",
   "metadata": {},
   "outputs": [],
   "source": [
    "# Importing libraries\n",
    "import pandas as pd\n",
    "import pyproj\n",
    "import numpy as np\n",
    "from scipy.interpolate import griddata"
   ]
  },
  {
   "cell_type": "code",
   "execution_count": 2,
   "id": "ab385227-0a1d-475a-9369-234d4bf1e803",
   "metadata": {},
   "outputs": [],
   "source": [
    "# Read the csv file with the velocities reported by White et al. 2019\n",
    "df = pd.read_csv(\"/Users/cecilia/PYEIFMM/White_et_al_2021__Ridgecrest_2019_velocity.csv\")\n",
    "\n",
    "# Define the input coordinate system (latitude and longitude)\n",
    "input_crs = pyproj.CRS(\"EPSG:4326\")  # EPSG:4326 represents WGS 84 (latitude and longitude)\n",
    "\n",
    "# Define the output coordinate system (latitude and longitude)\n",
    "output_crs = pyproj.CRS(\"EPSG:26711\")  # EPSG:26711 represents UTM Zone 11 of the north hemisphere NAD27)\n",
    "\n",
    "# Create a coordinates transformer\n",
    "transformer = pyproj.Transformer.from_crs(input_crs, output_crs, always_xy=True)\n",
    "\n",
    "# Apply the transformation to the latitude and longitude columns\n",
    "df['x'], df['y'] = transformer.transform(df['longitude'].values, df['latitude'].values)\n",
    "\n",
    "# Minimun latitude (y) and longitude (x) values\n",
    "min_proyx=df['x'].min()\n",
    "min_proyy=df['y'].min()\n",
    "\n",
    "# Adjust the minimun value of x and y to (0,0) \n",
    "df['x'] -= df['x'].min()\n",
    "df['y'] -= df['y'].min()\n",
    "df['z'] = df['depth']*1000   # Convert depth from kilometers to meters \n",
    "\n",
    "# Save the new DataFrame in a new csv file\n",
    "df.to_csv(\"/Users/cecilia/PYEIFMM/White_et_al_2021__Ridgecrest_2019_velocity_transformed.csv\", index=False)"
   ]
  },
  {
   "cell_type": "code",
   "execution_count": 3,
   "id": "a7e61f27-33dc-4c4f-b2d2-fb51700ca792",
   "metadata": {},
   "outputs": [],
   "source": [
    "# Input file information\n",
    "min_long=df['longitude'].min()\n",
    "max_long=df['longitude'].max()\n",
    "min_lat=df['latitude'].min()\n",
    "max_lat=df['latitude'].max()\n",
    "min_z=df['z'].min()\n",
    "crs_geo=\"EPSG:4326\"\n",
    "\n",
    "# Output file information\n",
    "min_x=df['x'].min()\n",
    "max_x=df['x'].max()\n",
    "min_y=df['y'].min()\n",
    "max_y=df['y'].max()\n",
    "crs_proy=\"EPSG:26711\""
   ]
  },
  {
   "cell_type": "code",
   "execution_count": 4,
   "id": "0bd8a9aa-f941-4978-88da-01fa7c500416",
   "metadata": {},
   "outputs": [
    {
     "name": "stdout",
     "output_type": "stream",
     "text": [
      "-119.0 -116.0 34.5 37.0 -3000.0\n"
     ]
    }
   ],
   "source": [
    "# Show some input file values\n",
    "print(min_long,\n",
    "max_long,\n",
    "min_lat,\n",
    "max_lat,\n",
    "min_z)"
   ]
  },
  {
   "cell_type": "code",
   "execution_count": 5,
   "id": "7ccc78cd-7483-4b6d-a0b6-cfb9eea272ab",
   "metadata": {},
   "outputs": [
    {
     "name": "stdout",
     "output_type": "stream",
     "text": [
      "0.0 275423.97344550805 0.0 279143.87236170284 -3000.0\n",
      "316459.9297286207 3817400.650678637\n"
     ]
    }
   ],
   "source": [
    "# Show some output file values\n",
    "print(min_x,\n",
    "max_x,\n",
    "min_y,\n",
    "max_y,\n",
    "min_z)\n",
    "\n",
    "print(min_proyx, min_proyy)"
   ]
  },
  {
   "cell_type": "code",
   "execution_count": 6,
   "id": "476f7790-8379-4820-b819-7dc5377dccc6",
   "metadata": {},
   "outputs": [
    {
     "name": "stdout",
     "output_type": "stream",
     "text": [
      "Transformed station coordinates:\n",
      "X: 129642.07044546341\n",
      "Y: 146078.6042745374\n"
     ]
    }
   ],
   "source": [
    "# Relevant coordinates: Station and test events A, B, C\n",
    "\n",
    "# STATION COORDINATES\n",
    "# Original coordinates in EPSG:4326 (latitude y longitude)\n",
    "sta_latitud = 35.81574\n",
    "sta_longitud = -117.59751\n",
    "\n",
    "# Transform the station coordinates to EPSG:26711\n",
    "sta_x, sta_y = transformer.transform(sta_longitud, sta_latitud)\n",
    "\n",
    "# Adjust the coordinates to the origin\n",
    "sta_x -= min_proyx\n",
    "sta_y -= min_proyy\n",
    "\n",
    "print(\"Transformed station coordinates:\")\n",
    "print(\"X:\", sta_x)\n",
    "print(\"Y:\", sta_y)\n",
    "\n",
    "# KEEP USING THIS CELL TO ADD THE TEST EVENTS CORDINATES..."
   ]
  },
  {
   "cell_type": "code",
   "execution_count": 7,
   "id": "70c0a6ad-4a69-451c-aec3-9504475452cb",
   "metadata": {},
   "outputs": [],
   "source": [
    "# Build the equispaced grid\n",
    "\n",
    "# Read the velocity transformed csv file\n",
    "df = pd.read_csv(\"/Users/cecilia/PYEIFMM/White_et_al_2021__Ridgecrest_2019_velocity_transformed.csv\")\n",
    "\n",
    "# Get a list of unique \"depth\" values\n",
    "depth_values = df['depth'].unique()\n",
    "\n",
    "# Create a new DataFrame to store the interpolated results in the new grid\n",
    "df_interpolated_new = pd.DataFrame()\n",
    "\n",
    "list_array_vp=[]\n",
    "list_array_vs=[]\n",
    "\n",
    "# Iterate through each depth layer and perform interpolation\n",
    "for depth_value in depth_values:\n",
    "    # Filter the DataFrame for the current depth layer\n",
    "    df_depth = df[df['depth'] == depth_value]\n",
    "\n",
    "    # Create a 500 meter equispaced grid in x and y for this layer\n",
    "    x_min, x_max = df_depth['x'].min(), df_depth['x'].max()\n",
    "    y_min, y_max = df_depth['y'].min(), df_depth['y'].max()\n",
    "    \n",
    "    x_grid_new = np.arange(x_min, x_max + 500, 500)\n",
    "    y_grid_new = np.arange(y_min, y_max + 500, 500)\n",
    "\n",
    "    x_mesh_new, y_mesh_new = np.meshgrid(x_grid_new, y_grid_new)\n",
    "    x_mesh_new=np.transpose(x_mesh_new)\n",
    "    y_mesh_new=np.transpose(y_mesh_new)\n",
    "\n",
    "    # Interpolate Vp and Vs values ​​on the new 2D grid with linear extrapolation\n",
    "    vp_interpolated = griddata((df_depth['x'], df_depth['y']), df_depth['Vp'], (x_mesh_new, y_mesh_new), method='linear', fill_value=np.nan)\n",
    "    vs_interpolated = griddata((df_depth['x'], df_depth['y']), df_depth['Vs'], (x_mesh_new, y_mesh_new), method='linear', fill_value=np.nan)\n",
    "\n",
    "    # Calculate the average Vp and Vs within this depth layer\n",
    "    average_vp = df_depth['Vp'].mean()\n",
    "    average_vs = df_depth['Vs'].mean()\n",
    "\n",
    "    # Replace the NaN values ​​in \"Vp\" and \"Vs\" with the averages calculated of this depth layer\n",
    "    vp_interpolated[np.isnan(vp_interpolated)] = average_vp\n",
    "    vs_interpolated[np.isnan(vs_interpolated)] = average_vs\n",
    "\n",
    "    list_array_vp.append(vp_interpolated)\n",
    "    list_array_vs.append(vs_interpolated)\n",
    "    \n",
    "    # Create a DataFrame for this interpolated depth layer in the new grid\n",
    "    df_depth_interpolated = pd.DataFrame({\n",
    "        'x': x_mesh_new.flatten(),\n",
    "        'y': y_mesh_new.flatten(),\n",
    "        'z' : depth_value * 1000 , \n",
    "        'Vp': vp_interpolated.flatten(),\n",
    "        'Vs': vs_interpolated.flatten(),\n",
    "        'depth': depth_value  # Add the \"depth\" column with the current depth value\n",
    "    })\n",
    "\n",
    "    # Add the results of this depth layer to the main DataFrame of the new grid\n",
    "    df_interpolated_new = pd.concat([df_interpolated_new, df_depth_interpolated], ignore_index=True)\n",
    "\n",
    "# Save the resulting DataFrame to a new CSV file with the new grid\n",
    "df_interpolated_new.to_csv(\"/Users/cecilia/PYEIFMM/White_et_al_2021__Ridgecrest_2019_velocity_interpolated_filled_500m.csv\", index=False)\n"
   ]
  },
  {
   "cell_type": "code",
   "execution_count": 8,
   "id": "d5d7042a-e6b7-46e2-8424-ed6f9b0f5090",
   "metadata": {},
   "outputs": [],
   "source": [
    "# Stack bidimensional velocities along the \"depth\" axis\n",
    "vp_s = np.dstack(list_array_vp)\n",
    "vs_s = np.dstack(list_array_vs)\n",
    "\n",
    "# Convert the resulting tridimensional velocities array to float32 data type\n",
    "vp3 = vp_s.astype(np.float32)\n",
    "vs3 = vs_s.astype(np.float32)"
   ]
  },
  {
   "cell_type": "code",
   "execution_count": 9,
   "id": "a27f1380-d756-4c37-9e69-7dd6929f9a14",
   "metadata": {},
   "outputs": [],
   "source": [
    "# Definition of file paths to save the tridimensional arrays\n",
    "ruta_vp = \"/Users/cecilia/PYEIFMM/vp_s.npy\"\n",
    "ruta_vs = \"/Users/cecilia/PYEIFMM/vs_s.npy\""
   ]
  },
  {
   "cell_type": "code",
   "execution_count": 10,
   "id": "17425bef-7401-477c-bcd6-6e35d00be667",
   "metadata": {},
   "outputs": [],
   "source": [
    "# Save velocities arrays in .npy files\n",
    "np.save(ruta_vp, vp3)\n",
    "np.save(ruta_vs, vs3)"
   ]
  },
  {
   "cell_type": "code",
   "execution_count": 11,
   "id": "a1572375-6bc5-44a4-beda-5c686e42d3fc",
   "metadata": {},
   "outputs": [
    {
     "data": {
      "text/plain": [
       "dtype('float32')"
      ]
     },
     "execution_count": 11,
     "metadata": {},
     "output_type": "execute_result"
    }
   ],
   "source": [
    "vp3.dtype"
   ]
  },
  {
   "cell_type": "markdown",
   "id": "0f80e980-915c-42b3-a6d0-3a29fc09f886",
   "metadata": {},
   "source": [
    "### Store all used parameters in a .json file"
   ]
  },
  {
   "cell_type": "code",
   "execution_count": 12,
   "id": "09e086c6-eb40-46f3-9032-d25a171e6eff",
   "metadata": {},
   "outputs": [],
   "source": [
    "z_values = df_interpolated_new['z'].unique()\n",
    "x_values = df_interpolated_new['x'].unique()\n",
    "y_values = df_interpolated_new['y'].unique()"
   ]
  },
  {
   "cell_type": "code",
   "execution_count": 13,
   "id": "c8e4e3fe-5e65-4400-bbb2-2f329f539f12",
   "metadata": {},
   "outputs": [],
   "source": [
    "# Define .json file parameters\n",
    "import json\n",
    "parameters = {\n",
    "    \"min_long\": min_long,\n",
    "    \"max_long\": max_long,\n",
    "    \"min_lat\": min_lat,\n",
    "    \"max_lat\": max_lat,\n",
    "    \"crs_geo\": crs_geo,\n",
    "    \"crs_proy\": crs_proy,\n",
    "    \"min_x\": min_proyx,\n",
    "    \"min_y\": min_proyy,\n",
    "    \"min_z\" : min_z,\n",
    "    \"nrx\": len(x_values),\n",
    "    \"nry\": len(y_values),\n",
    "    \"nrz\": len(z_values)\n",
    "}\n",
    "\n",
    "# Define the .json file name\n",
    "file_name = '/Users/cecilia/PYEIFMM/proyections.json'\n",
    "\n",
    "# Saving the parameters in the .json file\n",
    "with open(file_name, 'w') as file:\n",
    "    json.dump(parameters, file, indent=4)"
   ]
  },
  {
   "cell_type": "code",
   "execution_count": 14,
   "id": "b95a0393-0270-4567-9afe-a6bcc444dca7",
   "metadata": {},
   "outputs": [
    {
     "data": {
      "text/plain": [
       "(552, 560, 87)"
      ]
     },
     "execution_count": 14,
     "metadata": {},
     "output_type": "execute_result"
    }
   ],
   "source": [
    "vp3.shape"
   ]
  },
  {
   "cell_type": "code",
   "execution_count": 15,
   "id": "aa503bf2-7a3d-4a5d-8307-81abf43178d5",
   "metadata": {},
   "outputs": [
    {
     "data": {
      "text/plain": [
       "{'min_long': -119.0,\n",
       " 'max_long': -116.0,\n",
       " 'min_lat': 34.5,\n",
       " 'max_lat': 37.0,\n",
       " 'crs_geo': 'EPSG:4326',\n",
       " 'crs_proy': 'EPSG:26711',\n",
       " 'min_x': 316459.9297286207,\n",
       " 'min_y': 3817400.650678637,\n",
       " 'min_z': -3000.0,\n",
       " 'nrx': 552,\n",
       " 'nry': 560,\n",
       " 'nrz': 87}"
      ]
     },
     "execution_count": 15,
     "metadata": {},
     "output_type": "execute_result"
    }
   ],
   "source": [
    "parameters"
   ]
  },
  {
   "cell_type": "code",
   "execution_count": 16,
   "id": "58ef9f56-178f-40c3-8a72-39132fe39591",
   "metadata": {},
   "outputs": [
    {
     "data": {
      "text/plain": [
       "(552, 560)"
      ]
     },
     "execution_count": 16,
     "metadata": {},
     "output_type": "execute_result"
    }
   ],
   "source": [
    "# Just visualizing some data values\n",
    "list_array_vp[0].shape"
   ]
  },
  {
   "cell_type": "code",
   "execution_count": 17,
   "id": "1e2d6e25-7fff-4b1d-b948-32f318f70c75",
   "metadata": {},
   "outputs": [
    {
     "data": {
      "text/plain": [
       "(552, 560)"
      ]
     },
     "execution_count": 17,
     "metadata": {},
     "output_type": "execute_result"
    }
   ],
   "source": [
    "vp_interpolated.shape"
   ]
  },
  {
   "cell_type": "code",
   "execution_count": 18,
   "id": "4d960b63-2613-4022-b7c7-6de88a6f3c18",
   "metadata": {},
   "outputs": [
    {
     "data": {
      "text/plain": [
       "75551"
      ]
     },
     "execution_count": 18,
     "metadata": {},
     "output_type": "execute_result"
    }
   ],
   "source": [
    "len(df_depth['x'])"
   ]
  },
  {
   "cell_type": "code",
   "execution_count": 19,
   "id": "0ce6d3af-7eda-4c6c-bfcd-cca8a86f902a",
   "metadata": {},
   "outputs": [
    {
     "name": "stdout",
     "output_type": "stream",
     "text": [
      "550.8479468910161\n"
     ]
    }
   ],
   "source": [
    "print((x_max/500))"
   ]
  },
  {
   "cell_type": "code",
   "execution_count": 20,
   "id": "5639678e-0608-4dae-baa5-cc79f58e2e4a",
   "metadata": {},
   "outputs": [],
   "source": [
    "xa_mesh_new, ya_mesh_new = np.meshgrid(x_grid_new, y_grid_new)"
   ]
  },
  {
   "cell_type": "code",
   "execution_count": 21,
   "id": "4370039b-cb05-498a-be6e-5508c720ab01",
   "metadata": {},
   "outputs": [
    {
     "data": {
      "text/plain": [
       "(560, 552)"
      ]
     },
     "execution_count": 21,
     "metadata": {},
     "output_type": "execute_result"
    }
   ],
   "source": [
    "ya_mesh_new.shape"
   ]
  },
  {
   "cell_type": "code",
   "execution_count": null,
   "id": "50ee4ecb-f02e-41b1-9518-e9eeeca0a4ed",
   "metadata": {},
   "outputs": [],
   "source": []
  }
 ],
 "metadata": {
  "kernelspec": {
   "display_name": "Python 3 (ipykernel)",
   "language": "python",
   "name": "python3"
  },
  "language_info": {
   "codemirror_mode": {
    "name": "ipython",
    "version": 3
   },
   "file_extension": ".py",
   "mimetype": "text/x-python",
   "name": "python",
   "nbconvert_exporter": "python",
   "pygments_lexer": "ipython3",
   "version": "3.10.13"
  }
 },
 "nbformat": 4,
 "nbformat_minor": 5
}
