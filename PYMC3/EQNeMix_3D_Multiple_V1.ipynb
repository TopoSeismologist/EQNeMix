{
 "cells": [
  {
   "cell_type": "raw",
   "id": "e0677a5b-7102-47d3-bf6c-7ed5c6adacfe",
   "metadata": {},
   "source": [
    "Copyright (c) 2024 R. Ortega, C. Meneses-Ponce & J.D. Castro Morales"
   ]
  },
  {
   "cell_type": "code",
   "execution_count": 1,
   "id": "fe062cd5-f014-456c-a1b2-e6a7d336f773",
   "metadata": {},
   "outputs": [],
   "source": [
    "#Import libraries\n",
    "import pandas as pd\n",
    "import numpy as np\n",
    "import pymc3 as pm\n",
    "import theano\n",
    "import theano.tensor as tt\n",
    "import json\n",
    "from obspy.core import UTCDateTime\n",
    "import pyproj"
   ]
  },
  {
   "cell_type": "code",
   "execution_count": 3,
   "id": "e3782042-90fe-4c05-b042-d5590cef8bc5",
   "metadata": {},
   "outputs": [],
   "source": [
    "# Read xlsx file with information provided by EQT and CNQ\n",
    "df_filtered = pd.read_excel('/Users/cecilia/EQNeMix/PYMC3/Results/df_filtered.xlsx')"
   ]
  },
  {
   "cell_type": "code",
   "execution_count": 4,
   "id": "ba851d09-09a0-408e-9d30-36a589a6edc9",
   "metadata": {},
   "outputs": [],
   "source": [
    "with open('countbase.txt') as fp:\n",
    "    count = fp.read()"
   ]
  },
  {
   "cell_type": "code",
   "execution_count": 5,
   "id": "fa926017-f85b-4919-9a87-aad59d5717ec",
   "metadata": {},
   "outputs": [],
   "source": [
    "coun = int(count)"
   ]
  },
  {
   "cell_type": "code",
   "execution_count": 6,
   "id": "96dd8012-86e2-4cc6-b117-c9577b77f265",
   "metadata": {},
   "outputs": [],
   "source": [
    "t_observed = df_filtered['t_observed'].iloc[coun]"
   ]
  },
  {
   "cell_type": "code",
   "execution_count": 7,
   "id": "01e12480-0de1-42ec-93d3-b07f3e608662",
   "metadata": {},
   "outputs": [],
   "source": [
    "weights_str = df_filtered['clusters_weight'].tolist()[coun]\n",
    "clusters_weight_i = eval(weights_str)\n",
    "w0 = clusters_weight_i[0]\n",
    "w1 = clusters_weight_i[1]\n",
    "w2 = clusters_weight_i[2]\n",
    "w3 = clusters_weight_i[3]\n",
    "w4 = clusters_weight_i[4]\n",
    "w5 = clusters_weight_i[5]\n",
    "weights = [w0, w1, w2, w3, w4, w5] "
   ]
  },
  {
   "cell_type": "code",
   "execution_count": 8,
   "id": "7763755e-38d2-4704-a290-1a8fb04e1329",
   "metadata": {},
   "outputs": [],
   "source": [
    "# Select reference system: STA or TT\n",
    "ref = 'TT'\n",
    "# Choose dimensionality: 2D or 3D\n",
    "dim = '3D'\n",
    "\n",
    "# Upload json files with ellipse parameters information\n",
    "ellipse_data = []\n",
    "for i in range(6):\n",
    "    file_path = f'/Users/cecilia/CONVN/data/6_clusters/csv_clusters/{dim}_{ref}/ellipse_parameters_{dim}_{ref}_{i}.json'\n",
    "    with open(file_path, 'r') as file:\n",
    "        data = json.load(file)\n",
    "    ellipse_data.append(data)\n",
    "\n",
    "# Extract covariance matrices information\n",
    "cov_matrices = []\n",
    "for i in range(6):\n",
    "    cov_matrices.append(np.array(ellipse_data[i]['Covariance']))\n",
    "\n",
    "# Extract ellipse means information\n",
    "means = []\n",
    "for i in range(6):\n",
    "    means.append(np.array(ellipse_data[i]['Mean']))"
   ]
  },
  {
   "cell_type": "code",
   "execution_count": 9,
   "id": "0da832e3-edce-435d-a209-f8a62435f1b9",
   "metadata": {},
   "outputs": [
    {
     "name": "stderr",
     "output_type": "stream",
     "text": [
      "/opt/miniforge3/envs/pymc3EQT/lib/python3.10/site-packages/deprecat/classic.py:215: FutureWarning: In v4.0, pm.sample will return an `arviz.InferenceData` object instead of a `MultiTrace` by default. You can pass return_inferencedata=True or return_inferencedata=False to be safe and silence this warning.\n",
      "  return wrapped_(*args_, **kwargs_)\n",
      "Only 300 samples in chain.\n",
      "Multiprocess sampling (4 chains in 4 jobs)\n",
      "CompoundStep\n",
      ">CategoricalGibbsMetropolis: [category]\n",
      ">NUTS: [mu5, mu4, mu3, mu2, mu1, mu0]\n"
     ]
    },
    {
     "data": {
      "text/html": [
       "\n",
       "<style>\n",
       "    /* Turns off some styling */\n",
       "    progress {\n",
       "        /* gets rid of default border in Firefox and Opera. */\n",
       "        border: none;\n",
       "        /* Needs to be in here for Safari polyfill so background images work as expected. */\n",
       "        background-size: auto;\n",
       "    }\n",
       "    progress:not([value]), progress:not([value])::-webkit-progress-bar {\n",
       "        background: repeating-linear-gradient(45deg, #7e7e7e, #7e7e7e 10px, #5c5c5c 10px, #5c5c5c 20px);\n",
       "    }\n",
       "    .progress-bar-interrupted, .progress-bar-interrupted::-webkit-progress-bar {\n",
       "        background: #F44336;\n",
       "    }\n",
       "</style>\n"
      ],
      "text/plain": [
       "<IPython.core.display.HTML object>"
      ]
     },
     "metadata": {},
     "output_type": "display_data"
    },
    {
     "data": {
      "text/html": [
       "\n",
       "    <div>\n",
       "      <progress value='1400' class='' max='1400' style='width:300px; height:20px; vertical-align: middle;'></progress>\n",
       "      100.00% [1400/1400 00:07&lt;00:00 Sampling 4 chains, 1 divergences]\n",
       "    </div>\n",
       "    "
      ],
      "text/plain": [
       "<IPython.core.display.HTML object>"
      ]
     },
     "metadata": {},
     "output_type": "display_data"
    },
    {
     "name": "stderr",
     "output_type": "stream",
     "text": [
      "Sampling 4 chains for 50 tune and 300 draw iterations (200 + 1_200 draws total) took 16 seconds.\n",
      "There was 1 divergence after tuning. Increase `target_accept` or reparameterize.\n",
      "The rhat statistic is larger than 1.05 for some parameters. This indicates slight problems during sampling.\n",
      "The estimated number of effective samples is smaller than 200 for some parameters.\n",
      "Got error No model on context stack. trying to find log_likelihood in translation.\n",
      "/opt/miniforge3/envs/pymc3EQT/lib/python3.10/site-packages/arviz/data/io_pymc3_3x.py:98: FutureWarning: Using `from_pymc3` without the model will be deprecated in a future release. Not using the model will return less accurate and less useful results. Make sure you use the model argument or call from_pymc3 within a model context.\n",
      "  warnings.warn(\n"
     ]
    },
    {
     "name": "stdout",
     "output_type": "stream",
     "text": [
      "El resumen del rastreo ha sido guardado en: /Users/cecilia/EQNeMix/PYMC3/Results/summary_results_0.csv\n"
     ]
    }
   ],
   "source": [
    "# Define the function S_P_t (Theoretical traveltime function) [SECONDS]\n",
    "def S_P_t(x, y, z):\n",
    "    filename = '/Users/cecilia/EQNeMix/PYEIFMM/tsp.npy'\n",
    "    tsp = np.load(filename)\n",
    "    tsp2 = theano.shared(tsp) \n",
    "    X_rounded = tt.cast(tt.floor_div(x, 500) * 500, 'int64')\n",
    "    Y_rounded = tt.cast(tt.floor_div(y, 500) * 500, 'int64')\n",
    "    Z_rounded = tt.cast(tt.floor_div(z, 500) * 500, 'int64')\n",
    "    # Find the corresponding indices in the tsp array\n",
    "    x_index = X_rounded // 500\n",
    "    y_index = Y_rounded // 500\n",
    "    z_index = Z_rounded // 500\n",
    "    tval = tsp2[x_index, y_index, z_index]\n",
    "    return tval\n",
    "\n",
    "# Define the Bayesian model\n",
    "with pm.Model() as model:\n",
    "    # Define the categories to choose the means\n",
    "    category = pm.Categorical('category', p = weights)\n",
    "\n",
    "    # Define the means corresponding to the categories\n",
    "    mus = [pm.MvNormal(f'mu{i}', mu=means[i], cov=cov_matrices[i], shape=3) for i in range(len(weights))]\n",
    "\n",
    "    # Select the averages corresponding to the selected category.\n",
    "    x = pm.Deterministic('x', pm.math.switch(\n",
    "        pm.math.eq(category, 0), mus[0][0],\n",
    "        pm.math.switch(pm.math.eq(category, 1), mus[1][0],\n",
    "        pm.math.switch(pm.math.eq(category, 2), mus[2][0],\n",
    "        pm.math.switch(pm.math.eq(category, 3), mus[3][0],\n",
    "        pm.math.switch(pm.math.eq(category, 4), mus[4][0], mus[5][0]))))))\n",
    "    \n",
    "    y = pm.Deterministic('y', pm.math.switch(\n",
    "        pm.math.eq(category, 0), mus[0][1],\n",
    "        pm.math.switch(pm.math.eq(category, 1), mus[1][1],\n",
    "        pm.math.switch(pm.math.eq(category, 2), mus[2][1],\n",
    "        pm.math.switch(pm.math.eq(category, 3), mus[3][1],\n",
    "        pm.math.switch(pm.math.eq(category, 4), mus[4][1], mus[5][1]))))))\n",
    "\n",
    "    z = pm.Deterministic('z', pm.math.switch(\n",
    "        pm.math.eq(category, 0), mus[0][1],\n",
    "        pm.math.switch(pm.math.eq(category, 1), mus[1][2],\n",
    "        pm.math.switch(pm.math.eq(category, 2), mus[2][2],\n",
    "        pm.math.switch(pm.math.eq(category, 3), mus[3][2],\n",
    "        pm.math.switch(pm.math.eq(category, 4), mus[4][2], mus[5][2]))))))\n",
    "    \n",
    "    # Calculate t using the theoretical function\n",
    "    t = S_P_t(x, y, z)\n",
    "\n",
    "    # Likelihood of the observed data\n",
    "    obs = pm.Normal('obs', mu = t, sigma = 0.1, observed = t_observed)\n",
    "\n",
    "with model:\n",
    "    trace = pm.sample(300, tune = 50, cores = 4)\n",
    "\n",
    "# Trace summary\n",
    "summary_df = pm.summary(trace)\n",
    "\n",
    "# Convert summary to dataframe\n",
    "summary_df = pd.DataFrame(summary_df)\n",
    "\n",
    "# Especifica el nombre y la ruta del archivo CSV\n",
    "summary_file = f'/Users/cecilia/EQNeMix/PYMC3/Results/summary_results_{coun}.csv'\n",
    "\n",
    "# Guarda el DataFrame como archivo CSV\n",
    "summary_df.to_csv(summary_file, index=False)\n",
    "\n",
    "# Imprime un mensaje indicando que se ha guardado el archivo\n",
    "print(f\"El resumen del rastreo ha sido guardado en: {summary_file}\")\n",
    "\n",
    "# Show DataFrame\n",
    "#print(summary_df)"
   ]
  },
  {
   "cell_type": "code",
   "execution_count": 10,
   "id": "7242b657-4d10-4ef6-9077-828c71f78c07",
   "metadata": {},
   "outputs": [],
   "source": [
    "#count = str(coun + 1)"
   ]
  },
  {
   "cell_type": "code",
   "execution_count": 11,
   "id": "9db08267-d7c8-41db-ba14-a6dc81b8308d",
   "metadata": {},
   "outputs": [],
   "source": [
    "#with open('countbase.txt','wt') as fp:\n",
    "    #fp.write(count)"
   ]
  }
 ],
 "metadata": {
  "kernelspec": {
   "display_name": "pymc3EQT",
   "language": "python",
   "name": "pymc3eqt"
  },
  "language_info": {
   "codemirror_mode": {
    "name": "ipython",
    "version": 3
   },
   "file_extension": ".py",
   "mimetype": "text/x-python",
   "name": "python",
   "nbconvert_exporter": "python",
   "pygments_lexer": "ipython3",
   "version": "3.10.13"
  }
 },
 "nbformat": 4,
 "nbformat_minor": 5
}
