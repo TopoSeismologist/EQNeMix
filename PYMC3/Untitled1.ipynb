{
 "cells": [
  {
   "cell_type": "markdown",
   "id": "f2fdfbdc-1ee9-4c50-96d4-935afbedf664",
   "metadata": {},
   "source": [
    "# Convert X,Y,Z mean to Latitude, Longitude, Depth"
   ]
  },
  {
   "cell_type": "code",
   "execution_count": 1,
   "id": "ced38c63-453b-4592-bba1-d946e3336248",
   "metadata": {},
   "outputs": [],
   "source": [
    "#Import libraries\n",
    "import pandas as pd"
   ]
  },
  {
   "cell_type": "markdown",
   "id": "256f5f36-ea71-4565-b9d0-99d7286d02d7",
   "metadata": {},
   "source": [
    "### First, extract the **x_mean**, **y_mean** and **z_mean** values from the **summary_results_{i}.csv**  and put them into an updated **df_filtered_means.xlsx**"
   ]
  },
  {
   "cell_type": "code",
   "execution_count": 2,
   "id": "d3ffa0ed-a539-4d40-bf4e-3f184c9962a7",
   "metadata": {},
   "outputs": [],
   "source": [
    "# Read the XLSX file\n",
    "df_filtered = pd.read_excel(\"/Users/cecilia/EQNeMix/PYMC3/Results/df_filtered.xlsx\")\n",
    "\n",
    "# Create new columns in the XLSX file\n",
    "df_filtered['x_utm'] = None\n",
    "df_filtered['y_utm'] = None\n",
    "df_filtered['z_utm'] = None\n",
    "\n",
    "# Iterate over the CSV files\n",
    "for i in range(3):  # Make sure to define 'n' according to your context\n",
    "    # Read the CSV file\n",
    "    summary_df = pd.read_csv(f\"/Users/cecilia/EQNeMix/PYMC3/Results/summary_results_{i}.csv\")\n",
    "    \n",
    "    # Extract values from rows 20, 21, and 22 of the 'mean' column\n",
    "    x_utm = summary_df.at[19, 'mean']\n",
    "    y_utm = summary_df.at[20, 'mean']\n",
    "    z_utm = summary_df.at[21, 'mean']\n",
    "    \n",
    "    # Assign values to the new columns in the XLSX file\n",
    "    df_filtered.at[i, 'x_utm'] = x_utm\n",
    "    df_filtered.at[i, 'y_utm'] = y_utm\n",
    "    df_filtered.at[i, 'z_utm'] = z_utm\n",
    "\n",
    "# Save the updated XLSX file\n",
    "df_filtered.to_excel(\"/Users/cecilia/EQNeMix/PYMC3/Results/df_filtered_means.xlsx\", index=False)\n"
   ]
  },
  {
   "cell_type": "code",
   "execution_count": null,
   "id": "5e0eef8d-4814-4d7c-8dfe-b2febedda00f",
   "metadata": {},
   "outputs": [],
   "source": [
    "# Extract 'x', 'y', 'z' from 'mean' column\n",
    "x_utm = summary_df.at['x', 'mean']\n",
    "y_utm = summary_df.at['y', 'mean']\n",
    "z_utm = summary_df.at['z', 'mean']\n",
    "\n",
    "# Transformer from (EPSG:32611 - UTM11N, WGS84) to (EPSG:4326 - lat, long, WGS84)\n",
    "latlon_proj = pyproj.Transformer.from_crs(32611, 4326, always_xy=True)\n",
    "\n",
    "# Transformer from (EPSG:4326 - lat, long, WGS84) to (EPSG:32611 - UTM11N, WGS84)\n",
    "utm_proj = pyproj.Transformer.from_crs(4326, 32611, always_xy=True)\n",
    "\n",
    "# Relative reference origin coordinates\n",
    "ref_latitude = 35.2\n",
    "ref_longitude = -118.2\n",
    "ref_depth = 0\n",
    "\n",
    "# Transform reference coordinates to UTM\n",
    "ref_longitude_utm, ref_latitude_utm = utm_proj.transform(ref_longitude, ref_latitude)\n",
    "\n",
    "# Correct relative reference origin effect\n",
    "x_utm += ref_longitude_utm\n",
    "y_utm += ref_latitude_utm\n",
    "\n",
    "# Convert depth from meters [m] to kilometers [km]\n",
    "z_depth = z_utm/1000\n",
    "\n",
    "# Transform coordinates from UTM to latitude, longitude\n",
    "x_longitude, y_latitude = latlon_proj.transform(x_utm,y_utm)\n",
    "\n",
    "# Print transformed coordinates\n",
    "print(f'Longitude: {x_longitude}°')\n",
    "print(f'Latitude: {y_latitude}°')\n",
    "print(f'Depth: {z_depth} [km]')\n"
   ]
  }
 ],
 "metadata": {
  "kernelspec": {
   "display_name": "Python 3 (ipykernel)",
   "language": "python",
   "name": "python3"
  },
  "language_info": {
   "codemirror_mode": {
    "name": "ipython",
    "version": 3
   },
   "file_extension": ".py",
   "mimetype": "text/x-python",
   "name": "python",
   "nbconvert_exporter": "python",
   "pygments_lexer": "ipython3",
   "version": "3.10.13"
  }
 },
 "nbformat": 4,
 "nbformat_minor": 5
}
