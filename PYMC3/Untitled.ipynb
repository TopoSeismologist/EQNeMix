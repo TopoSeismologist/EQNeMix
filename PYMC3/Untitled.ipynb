{
 "cells": [
  {
   "cell_type": "code",
   "execution_count": 1,
   "id": "4c22b846-555a-4e8b-bdde-12b7662ef05c",
   "metadata": {},
   "outputs": [
    {
     "name": "stdout",
     "output_type": "stream",
     "text": [
      "Requirement already satisfied: nbconvert in /opt/miniforge3/envs/pymc3EQT/lib/python3.10/site-packages (7.11.0)\n",
      "Requirement already satisfied: beautifulsoup4 in /opt/miniforge3/envs/pymc3EQT/lib/python3.10/site-packages (from nbconvert) (4.12.2)\n",
      "Requirement already satisfied: bleach!=5.0.0 in /opt/miniforge3/envs/pymc3EQT/lib/python3.10/site-packages (from nbconvert) (6.1.0)\n",
      "Requirement already satisfied: defusedxml in /opt/miniforge3/envs/pymc3EQT/lib/python3.10/site-packages (from nbconvert) (0.7.1)\n",
      "Requirement already satisfied: jinja2>=3.0 in /opt/miniforge3/envs/pymc3EQT/lib/python3.10/site-packages (from nbconvert) (3.1.2)\n",
      "Requirement already satisfied: jupyter-core>=4.7 in /opt/miniforge3/envs/pymc3EQT/lib/python3.10/site-packages (from nbconvert) (5.5.0)\n",
      "Requirement already satisfied: jupyterlab-pygments in /opt/miniforge3/envs/pymc3EQT/lib/python3.10/site-packages (from nbconvert) (0.2.2)\n",
      "Requirement already satisfied: markupsafe>=2.0 in /opt/miniforge3/envs/pymc3EQT/lib/python3.10/site-packages (from nbconvert) (2.1.3)\n",
      "Requirement already satisfied: mistune<4,>=2.0.3 in /opt/miniforge3/envs/pymc3EQT/lib/python3.10/site-packages (from nbconvert) (3.0.2)\n",
      "Requirement already satisfied: nbclient>=0.5.0 in /opt/miniforge3/envs/pymc3EQT/lib/python3.10/site-packages (from nbconvert) (0.9.0)\n",
      "Requirement already satisfied: nbformat>=5.7 in /opt/miniforge3/envs/pymc3EQT/lib/python3.10/site-packages (from nbconvert) (5.9.2)\n",
      "Requirement already satisfied: packaging in /opt/miniforge3/envs/pymc3EQT/lib/python3.10/site-packages (from nbconvert) (23.2)\n",
      "Requirement already satisfied: pandocfilters>=1.4.1 in /opt/miniforge3/envs/pymc3EQT/lib/python3.10/site-packages (from nbconvert) (1.5.0)\n",
      "Requirement already satisfied: pygments>=2.4.1 in /opt/miniforge3/envs/pymc3EQT/lib/python3.10/site-packages (from nbconvert) (2.16.1)\n",
      "Requirement already satisfied: tinycss2 in /opt/miniforge3/envs/pymc3EQT/lib/python3.10/site-packages (from nbconvert) (1.2.1)\n",
      "Requirement already satisfied: traitlets>=5.1 in /opt/miniforge3/envs/pymc3EQT/lib/python3.10/site-packages (from nbconvert) (5.13.0)\n",
      "Requirement already satisfied: six>=1.9.0 in /opt/miniforge3/envs/pymc3EQT/lib/python3.10/site-packages (from bleach!=5.0.0->nbconvert) (1.16.0)\n",
      "Requirement already satisfied: webencodings in /opt/miniforge3/envs/pymc3EQT/lib/python3.10/site-packages (from bleach!=5.0.0->nbconvert) (0.5.1)\n",
      "Requirement already satisfied: platformdirs>=2.5 in /opt/miniforge3/envs/pymc3EQT/lib/python3.10/site-packages (from jupyter-core>=4.7->nbconvert) (4.0.0)\n",
      "Requirement already satisfied: jupyter-client>=6.1.12 in /opt/miniforge3/envs/pymc3EQT/lib/python3.10/site-packages (from nbclient>=0.5.0->nbconvert) (8.6.0)\n",
      "Requirement already satisfied: fastjsonschema in /opt/miniforge3/envs/pymc3EQT/lib/python3.10/site-packages (from nbformat>=5.7->nbconvert) (2.18.1)\n",
      "Requirement already satisfied: jsonschema>=2.6 in /opt/miniforge3/envs/pymc3EQT/lib/python3.10/site-packages (from nbformat>=5.7->nbconvert) (4.19.2)\n",
      "Requirement already satisfied: soupsieve>1.2 in /opt/miniforge3/envs/pymc3EQT/lib/python3.10/site-packages (from beautifulsoup4->nbconvert) (2.5)\n",
      "Requirement already satisfied: attrs>=22.2.0 in /opt/miniforge3/envs/pymc3EQT/lib/python3.10/site-packages (from jsonschema>=2.6->nbformat>=5.7->nbconvert) (23.1.0)\n",
      "Requirement already satisfied: jsonschema-specifications>=2023.03.6 in /opt/miniforge3/envs/pymc3EQT/lib/python3.10/site-packages (from jsonschema>=2.6->nbformat>=5.7->nbconvert) (2023.12.1)\n",
      "Requirement already satisfied: referencing>=0.28.4 in /opt/miniforge3/envs/pymc3EQT/lib/python3.10/site-packages (from jsonschema>=2.6->nbformat>=5.7->nbconvert) (0.30.2)\n",
      "Requirement already satisfied: rpds-py>=0.7.1 in /opt/miniforge3/envs/pymc3EQT/lib/python3.10/site-packages (from jsonschema>=2.6->nbformat>=5.7->nbconvert) (0.12.0)\n",
      "Requirement already satisfied: python-dateutil>=2.8.2 in /opt/miniforge3/envs/pymc3EQT/lib/python3.10/site-packages (from jupyter-client>=6.1.12->nbclient>=0.5.0->nbconvert) (2.8.2)\n",
      "Requirement already satisfied: pyzmq>=23.0 in /opt/miniforge3/envs/pymc3EQT/lib/python3.10/site-packages (from jupyter-client>=6.1.12->nbclient>=0.5.0->nbconvert) (25.1.1)\n",
      "Requirement already satisfied: tornado>=6.2 in /opt/miniforge3/envs/pymc3EQT/lib/python3.10/site-packages (from jupyter-client>=6.1.12->nbclient>=0.5.0->nbconvert) (6.3.3)\n",
      "Collecting referencing>=0.28.4 (from jsonschema>=2.6->nbformat>=5.7->nbconvert)\n",
      "  Using cached referencing-0.33.0-py3-none-any.whl.metadata (2.7 kB)\n",
      "Using cached referencing-0.33.0-py3-none-any.whl (26 kB)\n",
      "Installing collected packages: referencing\n",
      "  Attempting uninstall: referencing\n",
      "    Found existing installation: referencing 0.30.2\n",
      "    Uninstalling referencing-0.30.2:\n",
      "      Successfully uninstalled referencing-0.30.2\n",
      "  Rolling back uninstall of referencing\n",
      "  Moving to /opt/miniforge3/envs/pymc3EQT/lib/python3.10/site-packages/referencing-0.30.2.dist-info/\n",
      "   from /opt/miniforge3/envs/pymc3EQT/lib/python3.10/site-packages/~eferencing-0.30.2.dist-info\n",
      "  Moving to /opt/miniforge3/envs/pymc3EQT/lib/python3.10/site-packages/referencing/\n",
      "   from /opt/miniforge3/envs/pymc3EQT/lib/python3.10/site-packages/~eferencing\n",
      "\u001b[31mERROR: Could not install packages due to an OSError: [Errno 13] Permission denied: '/opt/miniforge3/envs/pymc3EQT/lib/python3.10/site-packages/referencing-0.33.0.dist-info/METADATA'\n",
      "Consider using the `--user` option or check the permissions.\n",
      "\u001b[0m\u001b[31m\n",
      "\u001b[0m"
     ]
    }
   ],
   "source": [
    "!pip install nbconvert"
   ]
  },
  {
   "cell_type": "code",
   "execution_count": null,
   "id": "21c417c9-6b74-4610-a351-8521dd192b6b",
   "metadata": {},
   "outputs": [],
   "source": []
  }
 ],
 "metadata": {
  "kernelspec": {
   "display_name": "Python 3 (ipykernel)",
   "language": "python",
   "name": "python3"
  },
  "language_info": {
   "codemirror_mode": {
    "name": "ipython",
    "version": 3
   },
   "file_extension": ".py",
   "mimetype": "text/x-python",
   "name": "python",
   "nbconvert_exporter": "python",
   "pygments_lexer": "ipython3",
   "version": "3.10.13"
  }
 },
 "nbformat": 4,
 "nbformat_minor": 5
}
